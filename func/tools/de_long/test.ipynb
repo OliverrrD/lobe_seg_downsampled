{
 "cells": [
  {
   "cell_type": "code",
   "execution_count": 2,
   "metadata": {},
   "outputs": [],
   "source": [
    "# import sklearn.datasets\n",
    "# import sklearn.model_selection\n",
    "# import sklearn.linear_model    \n",
    "import numpy as np\n",
    "import compare_auc_delong\n",
    "import unittest\n",
    "import scipy.stats\n",
    "import pandas as pd\n",
    "import math\n",
    "from sklearn import metrics\n"
   ]
  },
  {
   "cell_type": "code",
   "execution_count": 3,
   "metadata": {},
   "outputs": [
    {
     "name": "stdout",
     "output_type": "stream",
     "text": [
      "[[-5.86257599]]\n",
      "1.3722208419884136e-06\n",
      "0.8749123627051019\n"
     ]
    }
   ],
   "source": [
    "df = pd.read_csv('/nfs/masi/gaor2/saved_file/Clinical_spore/spore_mp/0806/combine_nlst.csv')\n",
    "\n",
    "y_true = df['BothTar'].tolist()\n",
    "y_pred1 = df['BOTHPred'].tolist()\n",
    "y_pred2 = df['kaggle'].tolist()\n",
    "\n",
    "p = compare_auc_delong.delong_roc_test(np.array(y_true), np.array(y_pred1), np.array(y_pred2))\n",
    "\n",
    "print (p)\n",
    "print (math.pow(10, p))\n",
    "\n",
    "fpr, tpr, threshold = metrics.roc_curve(y_true, y_pred1)\n",
    "roc_auc = metrics.auc(fpr, tpr)\n",
    "print (roc_auc)"
   ]
  },
  {
   "cell_type": "code",
   "execution_count": 1,
   "metadata": {},
   "outputs": [
    {
     "ename": "NameError",
     "evalue": "name 'pd' is not defined",
     "output_type": "error",
     "traceback": [
      "\u001b[0;31m---------------------------------------------------------------------------\u001b[0m",
      "\u001b[0;31mNameError\u001b[0m                                 Traceback (most recent call last)",
      "\u001b[0;32m<ipython-input-1-03485084aa5f>\u001b[0m in \u001b[0;36m<module>\u001b[0;34m\u001b[0m\n\u001b[0;32m----> 1\u001b[0;31m \u001b[0mdf\u001b[0m \u001b[0;34m=\u001b[0m \u001b[0mpd\u001b[0m\u001b[0;34m.\u001b[0m\u001b[0mread_csv\u001b[0m\u001b[0;34m(\u001b[0m\u001b[0;34m'/nfs/masi/gaor2/saved_file/Clinical_spore/spore_mp/0806/ext_average.csv'\u001b[0m\u001b[0;34m)\u001b[0m\u001b[0;34m\u001b[0m\u001b[0;34m\u001b[0m\u001b[0m\n\u001b[0m\u001b[1;32m      2\u001b[0m \u001b[0;34m\u001b[0m\u001b[0m\n\u001b[1;32m      3\u001b[0m \u001b[0my_true\u001b[0m \u001b[0;34m=\u001b[0m \u001b[0mdf\u001b[0m\u001b[0;34m[\u001b[0m\u001b[0;34m'BothTar'\u001b[0m\u001b[0;34m]\u001b[0m\u001b[0;34m.\u001b[0m\u001b[0mtolist\u001b[0m\u001b[0;34m(\u001b[0m\u001b[0;34m)\u001b[0m\u001b[0;34m[\u001b[0m\u001b[0;34m:\u001b[0m\u001b[0;36m220\u001b[0m\u001b[0;34m]\u001b[0m\u001b[0;34m\u001b[0m\u001b[0;34m\u001b[0m\u001b[0m\n\u001b[1;32m      4\u001b[0m \u001b[0my_pred1\u001b[0m \u001b[0;34m=\u001b[0m \u001b[0mdf\u001b[0m\u001b[0;34m[\u001b[0m\u001b[0;34m'BOTHPred'\u001b[0m\u001b[0;34m]\u001b[0m\u001b[0;34m.\u001b[0m\u001b[0mtolist\u001b[0m\u001b[0;34m(\u001b[0m\u001b[0;34m)\u001b[0m\u001b[0;34m[\u001b[0m\u001b[0;34m:\u001b[0m\u001b[0;36m220\u001b[0m\u001b[0;34m]\u001b[0m\u001b[0;34m\u001b[0m\u001b[0;34m\u001b[0m\u001b[0m\n\u001b[1;32m      5\u001b[0m \u001b[0my_pred2\u001b[0m \u001b[0;34m=\u001b[0m \u001b[0mdf\u001b[0m\u001b[0;34m[\u001b[0m\u001b[0;34m'kaggle'\u001b[0m\u001b[0;34m]\u001b[0m\u001b[0;34m.\u001b[0m\u001b[0mtolist\u001b[0m\u001b[0;34m(\u001b[0m\u001b[0;34m)\u001b[0m\u001b[0;34m[\u001b[0m\u001b[0;34m:\u001b[0m\u001b[0;36m220\u001b[0m\u001b[0;34m]\u001b[0m\u001b[0;34m\u001b[0m\u001b[0;34m\u001b[0m\u001b[0m\n",
      "\u001b[0;31mNameError\u001b[0m: name 'pd' is not defined"
     ]
    }
   ],
   "source": [
    "df = pd.read_csv('/nfs/masi/gaor2/saved_file/Clinical_spore/spore_mp/0806/ext_average.csv')\n",
    "\n",
    "y_true = df['BothTar'].tolist()[:220]\n",
    "y_pred1 = df['BOTHPred'].tolist()[:220]\n",
    "y_pred2 = df['kaggle'].tolist()[:220]\n",
    "p = compare_auc_delong.delong_roc_test(np.array(y_true), np.array(y_pred1), np.array(y_pred2))\n",
    "\n",
    "print (p)\n",
    "print (math.pow(10, p))\n",
    "\n",
    "fpr, tpr, threshold = metrics.roc_curve(y_true, y_pred2)\n",
    "roc_auc = metrics.auc(fpr, tpr)\n",
    "print (roc_auc)\n"
   ]
  },
  {
   "cell_type": "code",
   "execution_count": 16,
   "metadata": {},
   "outputs": [
    {
     "name": "stdout",
     "output_type": "stream",
     "text": [
      "1422\n",
      "[[-0.32257309]]\n"
     ]
    }
   ],
   "source": [
    "\n",
    "# df0 = pd.read_csv('/nfs/masi/gaor2/saved_file/MILung/2DGAN/20210203_multigan_compare3/TEST_CSV/img_cpbigan_clic_cpbigan.csv')\n",
    "# df1 = pd.read_csv('/nfs/masi/gaor2/saved_file/MILung/2DGAN/20210203_multigan_compare3/TEST_CSV/img_cpbigan*_clic_cpbigan.csv')\n",
    "df0 = pd.read_csv('/nfs/masi/gaor2/saved_file/MILung/2Dmulti/Seqence/MULTI_SEQ/CROSSV/notonlylong/test3/test_csv/img_cpbigan_clic_cpbigan_tt.csv')\n",
    "df1 = pd.read_csv('/nfs/masi/gaor2/saved_file/MILung/2Dmulti/Seqence/MULTI_SEQ/CROSSV/notonlylong/test3/test_csv/img_cpbigan*_clic_pbigan_imgmis0.3.csv')\n",
    "\n",
    "df0 = df0.sort_values(by='ID')\n",
    "df1 = df1.sort_values(by='ID')\n",
    "assert (np.array(df0['ID'].tolist()) == np.array(df1['ID'].tolist())).all()\n",
    "\n",
    "y_true = df0['target'].tolist()\n",
    "y_pred1 = df0['pred'].tolist()  # bothpred, pred\n",
    "y_pred2 = df1['pred'].tolist()\n",
    "print (len(y_pred2))\n",
    "index = np.random.randint(0, len(y_true), 2000)  #\n",
    "\n",
    "\n",
    "sampled_y = np.array(y_true)[index.astype(int)]\n",
    "sampled_pred1 = np.array(y_pred1)[index.astype(int)]\n",
    "sampled_pred2 = np.array(y_pred2)[index.astype(int)]\n",
    "\n",
    "p = compare_auc_delong.delong_roc_test(np.array(y_true), np.array(y_pred1), np.array(y_pred2))\n",
    "# p, z = stat_util.pvalue(sampled_y, sampled_pred1, sampled_pred2, n_bootstraps = 2000,\n",
    "#                         score_fun=roc_auc_score,\n",
    "#                         seed=2)\n",
    "# p, z = stat_util.pvalue(y_true, y_pred1, y_pred2, n_bootstraps = 1000,\n",
    "#                         score_fun=roc_auc_score,\n",
    "#                         seed=1)\n",
    "print (p)"
   ]
  },
  {
   "cell_type": "code",
   "execution_count": null,
   "metadata": {},
   "outputs": [],
   "source": []
  }
 ],
 "metadata": {
  "kernelspec": {
   "display_name": "Python [conda env:python36]",
   "language": "python",
   "name": "conda-env-python36-py"
  },
  "language_info": {
   "codemirror_mode": {
    "name": "ipython",
    "version": 3
   },
   "file_extension": ".py",
   "mimetype": "text/x-python",
   "name": "python",
   "nbconvert_exporter": "python",
   "pygments_lexer": "ipython3",
   "version": "3.7.4"
  }
 },
 "nbformat": 4,
 "nbformat_minor": 2
}
