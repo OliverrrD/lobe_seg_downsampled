{
 "cells": [
  {
   "cell_type": "code",
   "execution_count": 126,
   "metadata": {},
   "outputs": [],
   "source": [
    "import nibabel as nib\n",
    "import numpy as np\n",
    "from scipy.ndimage.interpolation import zoom\n",
    "import matplotlib.pyplot as plt\n",
    "from skimage import transform"
   ]
  },
  {
   "cell_type": "code",
   "execution_count": 10,
   "metadata": {},
   "outputs": [],
   "source": [
    "def get_roi(mask_path):\n",
    "\n",
    "    img_nii = nib.load(mask_path)\n",
    "    img = img_nii.get_data()\n",
    "    roi = np.zeros(img.shape, dtype = np.uint8)\n",
    "    x_list, y_list, z_list = [], [], []\n",
    "    for i in range(img.shape[0]):\n",
    "        if np.sum(img[i, :, :]) > 20:\n",
    "            x_list.append(i)\n",
    "    for i in range(img.shape[1]):\n",
    "        if np.sum(img[:, i, :]) > 20:\n",
    "            y_list.append(i)\n",
    "    for i in range(img.shape[2]):\n",
    "        if np.sum(img[:, :, i]) > 20:\n",
    "            z_list.append(i)\n",
    "            #roi[:, :, i] = 1\n",
    "    x_cent, y_cent, z_cent =  (x_list[0] + x_list[-1]) / 2, (y_list[0] + y_list[-1]) / 2, (z_list[0] + z_list[-1]) / 2\n",
    "    print ('the center is: ', x_cent, y_cent, z_cent)\n",
    "    \n",
    "    \n",
    "    return x_cent, y_cent, z_cent"
   ]
  },
  {
   "cell_type": "code",
   "execution_count": 107,
   "metadata": {},
   "outputs": [
    {
     "name": "stdout",
     "output_type": "stream",
     "text": [
      "(512, 512, 62)\n"
     ]
    }
   ],
   "source": [
    "img_path = '/nfs/masi/MCL/nifti/combine/25176612842/20110330/25176612842time20110330.nii.gz'\n",
    "mask_path = '/nfs/masi/xuk9/MCL/thorax_reg_roi_full/lung_mask/25176612842time20110330.nii.gz'\n",
    "img_nii = nib.load(img_path)\n",
    "print (img_nii.shape)"
   ]
  },
  {
   "cell_type": "code",
   "execution_count": 108,
   "metadata": {},
   "outputs": [
    {
     "name": "stdout",
     "output_type": "stream",
     "text": [
      "[0.5625, 0.5625, 5.0] [0.5625, 0.5625, 5.0]\n"
     ]
    }
   ],
   "source": [
    "mask_nii = nib.load(mask_path)\n",
    "resol = [mask_nii.header['pixdim'][1], mask_nii.header['pixdim'][2], mask_nii.header['pixdim'][3]]\n",
    "resol_img = [img_nii.header['pixdim'][1], img_nii.header['pixdim'][2], img_nii.header['pixdim'][3]]\n",
    "print (resol, resol_img)"
   ]
  },
  {
   "cell_type": "code",
   "execution_count": 110,
   "metadata": {},
   "outputs": [
    {
     "name": "stdout",
     "output_type": "stream",
     "text": [
      "the center is:  258.0 264.0 31.0\n"
     ]
    }
   ],
   "source": [
    "center = get_roi(mask_path)"
   ]
  },
  {
   "cell_type": "code",
   "execution_count": 111,
   "metadata": {},
   "outputs": [],
   "source": [
    "lens =  [200 * 1.5 / resol, 200 * 1.5 / resol, 200 * 1.6 / resol]  #\n",
    "x_begin, x_end = center[0] - lens[0] / 2, center[0] + lens[0] / 2\n",
    "y_begin, y_end = center[1] - lens[1] / 2, center[1] + lens[1] / 2\n",
    "z_begin, z_end = center[2] - lens[2] / 2, center[2] + lens[2] / 2"
   ]
  },
  {
   "cell_type": "code",
   "execution_count": 119,
   "metadata": {},
   "outputs": [],
   "source": [
    "img_new = img_nii.get_data() #[x_begin: x_end, y_begin: y_end, z_begin: z_end] \n",
    "x_begin, x_end, y_begin, y_end, z_begin, z_end = max(0,int(x_begin)), int(x_end), max(0, int(y_begin)), int(y_end), max(0,int(z_begin)), int(z_end)\n",
    "img_new = img_new[x_begin: x_end, y_begin: y_end, z_begin: z_end]"
   ]
  },
  {
   "cell_type": "code",
   "execution_count": 121,
   "metadata": {},
   "outputs": [
    {
     "name": "stdout",
     "output_type": "stream",
     "text": [
      "[0.38167939 0.37735849 3.33333333]\n"
     ]
    }
   ],
   "source": [
    "resize_factor = np.array([200, 200, 200]) / np.array([int(x_end)- int(x_begin), int(y_end) - int(y_begin), int(z_end) - int(z_begin)])\n",
    "print (resize_factor)"
   ]
  },
  {
   "cell_type": "code",
   "execution_count": 130,
   "metadata": {},
   "outputs": [],
   "source": [
    "img_save = transform.resize(img_new, [200, 200, 200], mode='edge', preserve_range='True')\n",
    "#zoom(img_new, resize_factor, mode = 'nearest',order=3)"
   ]
  },
  {
   "cell_type": "code",
   "execution_count": 128,
   "metadata": {},
   "outputs": [
    {
     "data": {
      "text/plain": [
       "(0, 530, (512, 512, 60), (200, 200, 200))"
      ]
     },
     "execution_count": 128,
     "metadata": {},
     "output_type": "execute_result"
    }
   ],
   "source": [
    "y_begin, y_end, img_new.shape, img_save.shape"
   ]
  },
  {
   "cell_type": "code",
   "execution_count": 131,
   "metadata": {},
   "outputs": [],
   "source": [
    "save_nii = nib.Nifti1Image(img_save, np.eye(4))\n",
    "nib.save(save_nii, '/nfs/masi/gaor2/tmp/resample2.nii.gz')"
   ]
  },
  {
   "cell_type": "code",
   "execution_count": 140,
   "metadata": {},
   "outputs": [],
   "source": [
    "img_nii = nib.load('/nfs/masi/gaor2/data/MCL/resample_roi/25053962798time20080101.nii.gz')\n",
    "img = img_nii.get_data()\n"
   ]
  },
  {
   "cell_type": "code",
   "execution_count": 149,
   "metadata": {},
   "outputs": [
    {
     "data": {
      "text/plain": [
       "1970.6856504818024"
      ]
     },
     "execution_count": 149,
     "metadata": {},
     "output_type": "execute_result"
    }
   ],
   "source": [
    "np.max(img)"
   ]
  },
  {
   "cell_type": "code",
   "execution_count": 152,
   "metadata": {},
   "outputs": [],
   "source": [
    "img_new = img\n",
    "img_new[img_new < -1000] = -1000\n",
    "img_new[img_new > 1000] = 1000\n",
    "img_new = img_new.astype(np.int16)"
   ]
  },
  {
   "cell_type": "code",
   "execution_count": 153,
   "metadata": {},
   "outputs": [],
   "source": [
    "save_nii = nib.Nifti1Image(img_new, np.eye(4))\n",
    "nib.save(save_nii, '/nfs/masi/gaor2/tmp/resample.nii.gz')"
   ]
  },
  {
   "cell_type": "code",
   "execution_count": null,
   "metadata": {},
   "outputs": [],
   "source": []
  }
 ],
 "metadata": {
  "kernelspec": {
   "display_name": "Python [conda env:python37]",
   "language": "python",
   "name": "conda-env-python37-py"
  },
  "language_info": {
   "codemirror_mode": {
    "name": "ipython",
    "version": 3
   },
   "file_extension": ".py",
   "mimetype": "text/x-python",
   "name": "python",
   "nbconvert_exporter": "python",
   "pygments_lexer": "ipython3",
   "version": "3.7.5"
  }
 },
 "nbformat": 4,
 "nbformat_minor": 2
}
