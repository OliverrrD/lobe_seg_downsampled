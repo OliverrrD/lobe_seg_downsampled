{
 "cells": [
  {
   "cell_type": "code",
   "execution_count": 1,
   "metadata": {},
   "outputs": [],
   "source": [
    "import dax\n",
    "import pandas as pd\n",
    "xnat = dax.XnatUtils.get_interface()"
   ]
  },
  {
   "cell_type": "code",
   "execution_count": 2,
   "metadata": {},
   "outputs": [],
   "source": [
    "scan = xnat.select_scan('MCL','29003187856','29003187856_20090826', '3')\n",
    "scan.attrs.set('quality','unusable')\n"
   ]
  },
  {
   "cell_type": "code",
   "execution_count": 4,
   "metadata": {},
   "outputs": [],
   "source": [
    "import re\n",
    "df = pd.read_csv('/nfs/masi/MCL/QA/maintain_SCANlist/20210114/goodscan_list.csv')\n",
    "\n",
    "for i, item in df.iterrows():\n",
    "    tmp = item['good_scan_label']\n",
    "    tmp_vec = re.split('_', tmp)\n",
    "    assert len(tmp_vec) == 3\n",
    "    subj_id = tmp_vec[0]\n",
    "    sess_id = tmp_vec[0] + '_' + tmp_vec[1]\n",
    "    scan_id = tmp_vec[2]\n",
    "    scan = xnat.select_scan('MCL',subj_id,sess_id, scan_id)\n",
    "    scan.attrs.set('quality','usable')\n",
    "    "
   ]
  },
  {
   "cell_type": "code",
   "execution_count": null,
   "metadata": {},
   "outputs": [],
   "source": []
  }
 ],
 "metadata": {
  "kernelspec": {
   "display_name": "Python [conda env:python37]",
   "language": "python",
   "name": "conda-env-python37-py"
  },
  "language_info": {
   "codemirror_mode": {
    "name": "ipython",
    "version": 3
   },
   "file_extension": ".py",
   "mimetype": "text/x-python",
   "name": "python",
   "nbconvert_exporter": "python",
   "pygments_lexer": "ipython3",
   "version": "3.7.5"
  }
 },
 "nbformat": 4,
 "nbformat_minor": 2
}
