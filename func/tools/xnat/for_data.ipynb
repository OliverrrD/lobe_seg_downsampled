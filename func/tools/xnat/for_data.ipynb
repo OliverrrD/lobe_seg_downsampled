{
 "cells": [
  {
   "cell_type": "code",
   "execution_count": 2,
   "metadata": {},
   "outputs": [],
   "source": [
    "import pandas as pd\n",
    "import pydicom"
   ]
  },
  {
   "cell_type": "code",
   "execution_count": 4,
   "metadata": {},
   "outputs": [],
   "source": [
    "a = pydicom.dcmread('/home/local/VANDERBILT/gaor2/code/DeepOpenLungData/INPUTS/DICOM/10001_002/000000.dcm')\n"
   ]
  },
  {
   "cell_type": "code",
   "execution_count": 5,
   "metadata": {},
   "outputs": [
    {
     "data": {
      "text/plain": [
       "(0008, 0005) Specific Character Set              CS: 'ISO_IR 100'\n",
       "(0008, 0008) Image Type                          CS: ['ORIGINAL', 'PRIMARY', 'AXIAL']\n",
       "(0008, 0016) SOP Class UID                       UI: CT Image Storage\n",
       "(0008, 0018) SOP Instance UID                    UI: 1.2.840.113654.2.55.16917840078875908988766448694607252021\n",
       "(0008, 0020) Study Date                          DA: '19990102'\n",
       "(0008, 0030) Study Time                          TM: ''\n",
       "(0008, 0050) Accession Number                    SH: '497048'\n",
       "(0008, 0060) Modality                            CS: 'CT'\n",
       "(0008, 0070) Manufacturer                        LO: 'GE MEDICAL SYSTEMS'\n",
       "(0008, 0090) Referring Physician's Name          PN: ' '\n",
       "(0008, 1010) Station Name                        SH: 'G15'\n",
       "(0008, 1030) Study Description                   LO: 'NLST-LSS'\n",
       "(0008, 103e) Series Description                  LO: '0,OPA,GE,LSPLUS,STANDARD,410,2.5,120,80,0.1,0.8'\n",
       "(0008, 1090) Manufacturer's Model Name           LO: 'LightSpeed Plus'\n",
       "(0010, 0010) Patient's Name                      PN: '096149^LSS'\n",
       "(0010, 0020) Patient ID                          LO: '100004'\n",
       "(0010, 0030) Patient's Birth Date                DA: ''\n",
       "(0010, 0040) Patient's Sex                       CS: ''\n",
       "(0010, 1000) Other Patient IDs                   LO: '096149'\n",
       "(0012, 0010) Clinical Trial Sponsor Name         LO: 'National Cancer Institute'\n",
       "(0012, 0020) Clinical Trial Protocol ID          LO: 'NCT00047385'\n",
       "(0012, 0021) Clinical Trial Protocol Name        LO: 'NLST-LSS'\n",
       "(0012, 0030) Clinical Trial Site ID              LO: ''\n",
       "(0012, 0031) Clinical Trial Site Name            LO: ''\n",
       "(0012, 0040) Clinical Trial Subject ID           LO: '096149'\n",
       "(0012, 0050) Clinical Trial Time Point ID        LO: 'T0'\n",
       "(0012, 0060) Clinical Trial Coordinating Center  LO: 'Washington U (images), Westat (assoc. data)'\n",
       "(0012, 0062) Patient Identity Removed            CS: 'YES'\n",
       "(0012, 0063) De-identification Method            LO: ['113100', '113101', '113103', '113105', '113109']\n",
       "(0012, 0064)  De-identification Method Code Sequence   5 item(s) ---- \n",
       "   (0008, 0100) Code Value                          SH: '113100'\n",
       "   (0008, 0102) Coding Scheme Designator            SH: 'DCM'\n",
       "   (0008, 0104) Code Meaning                        LO: 'Basic Application Confidentiality Profile'\n",
       "   ---------\n",
       "   (0008, 0100) Code Value                          SH: '113101'\n",
       "   (0008, 0102) Coding Scheme Designator            SH: 'DCM'\n",
       "   (0008, 0104) Code Meaning                        LO: 'Clean Pixel Data Option'\n",
       "   ---------\n",
       "   (0008, 0100) Code Value                          SH: '113103'\n",
       "   (0008, 0102) Coding Scheme Designator            SH: 'DCM'\n",
       "   (0008, 0104) Code Meaning                        LO: 'Clean Graphics Option'\n",
       "   ---------\n",
       "   (0008, 0100) Code Value                          SH: '113105'\n",
       "   (0008, 0102) Coding Scheme Designator            SH: 'DCM'\n",
       "   (0008, 0104) Code Meaning                        LO: 'Clean Descriptors Option'\n",
       "   ---------\n",
       "   (0008, 0100) Code Value                          SH: '113109'\n",
       "   (0008, 0102) Coding Scheme Designator            SH: 'DCM'\n",
       "   (0008, 0104) Code Meaning                        LO: 'Retain Device Identity Option'\n",
       "   ---------\n",
       "(0013, 0010) Private Creator                     LO: 'CTP'\n",
       "(0013, 1010) Private tag data                    UN: b'NLST'\n",
       "(0013, 1011) Private tag data                    UN: b'NLST'\n",
       "(0013, 1012) Private tag data                    UN: b'LSS\\x00'\n",
       "(0013, 1013) Private tag data                    UN: b'70049004'\n",
       "(0018, 0015) Body Part Examined                  CS: 'CHEST'\n",
       "(0018, 0050) Slice Thickness                     DS: \"2.500000\"\n",
       "(0018, 0060) KVP                                 DS: \"120\"\n",
       "(0018, 0090) Data Collection Diameter            DS: \"500.000000\"\n",
       "(0018, 1020) Software Version(s)                 LO: 'LightSpeedApps303.1_H3M4'\n",
       "(0018, 1100) Reconstruction Diameter             DS: \"410.000000\"\n",
       "(0018, 1110) Distance Source to Detector         DS: \"949.075012\"\n",
       "(0018, 1111) Distance Source to Patient          DS: \"541.000000\"\n",
       "(0018, 1120) Gantry/Detector Tilt                DS: \"0.000000\"\n",
       "(0018, 1130) Table Height                        DS: \"179.300003\"\n",
       "(0018, 1140) Rotation Direction                  CS: 'CW'\n",
       "(0018, 1150) Exposure Time                       IS: \"891\"\n",
       "(0018, 1151) X-Ray Tube Current                  IS: \"160\"\n",
       "(0018, 1152) Exposure                            IS: \"3200\"\n",
       "(0018, 1160) Filter Type                         SH: 'BODY FILTER'\n",
       "(0018, 1170) Generator Power                     IS: \"19200\"\n",
       "(0018, 1190) Focal Spot(s)                       DS: \"0.700000\"\n",
       "(0018, 1210) Convolution Kernel                  SH: 'STANDARD'\n",
       "(0018, 9311) Spiral Pitch Factor                 FD: 0.75\n",
       "(0020, 000d) Study Instance UID                  UI: 1.2.840.113654.2.55.174144834924218414213677353968537663991\n",
       "(0020, 000e) Series Instance UID                 UI: 1.2.840.113654.2.55.221581533879834196356530174246594024639\n",
       "(0020, 0010) Study ID                            SH: ''\n",
       "(0020, 0011) Series Number                       IS: \"1\"\n",
       "(0020, 0012) Acquisition Number                  IS: \"1\"\n",
       "(0020, 0013) Instance Number                     IS: \"31\"\n",
       "(0020, 0020) Patient Orientation                 CS: ''\n",
       "(0020, 0032) Image Position (Patient)            DS: ['-228.500000', '-205.000000', '-115.919998']\n",
       "(0020, 0037) Image Orientation (Patient)         DS: ['1', '0', '0', '0', '1', '0']\n",
       "(0020, 0052) Frame of Reference UID              UI: 1.2.840.113654.2.55.77290726053036348834180462278888810033\n",
       "(0020, 1040) Position Reference Indicator        LO: 'SN'\n",
       "(0020, 1041) Slice Location                      DS: \"-115.919998\"\n",
       "(0028, 0002) Samples per Pixel                   US: 1\n",
       "(0028, 0004) Photometric Interpretation          CS: 'MONOCHROME2'\n",
       "(0028, 0006) Planar Configuration                US: 0\n",
       "(0028, 0010) Rows                                US: 512\n",
       "(0028, 0011) Columns                             US: 512\n",
       "(0028, 0030) Pixel Spacing                       DS: ['0.800781', '0.800781']\n",
       "(0028, 0100) Bits Allocated                      US: 16\n",
       "(0028, 0101) Bits Stored                         US: 12\n",
       "(0028, 0102) High Bit                            US: 11\n",
       "(0028, 0103) Pixel Representation                US: 0\n",
       "(0028, 0120) Pixel Padding Value                 US: 0\n",
       "(0028, 1050) Window Center                       DS: \"40\"\n",
       "(0028, 1051) Window Width                        DS: \"400\"\n",
       "(0028, 1052) Rescale Intercept                   DS: \"-1024\"\n",
       "(0028, 1053) Rescale Slope                       DS: \"1\"\n",
       "(0028, 1054) Rescale Type                        LO: 'HU'\n",
       "(7fe0, 0010) Pixel Data                          OW: Array of 524288 bytes"
      ]
     },
     "execution_count": 5,
     "metadata": {},
     "output_type": "execute_result"
    }
   ],
   "source": [
    "a"
   ]
  },
  {
   "cell_type": "code",
   "execution_count": 13,
   "metadata": {},
   "outputs": [
    {
     "name": "stdout",
     "output_type": "stream",
     "text": [
      "Project:MCL; Subject:9999999999; Session:9999999999-20201208\n"
     ]
    },
    {
     "data": {
      "text/plain": [
       "'9999999999-20201208'"
      ]
     },
     "execution_count": 13,
     "metadata": {},
     "output_type": "execute_result"
    }
   ],
   "source": [
    "print (a[0x10,0x4000].value)\n",
    "import re\n",
    "re.split('[ ,:;]',a[0x10,0x4000].value.strip())[-1]"
   ]
  },
  {
   "cell_type": "code",
   "execution_count": 34,
   "metadata": {},
   "outputs": [
    {
     "name": "stdout",
     "output_type": "stream",
     "text": [
      "292 62\n"
     ]
    }
   ],
   "source": [
    "df0 = pd.read_csv('/nfs/masi/MCL/xnat/xnat20201214_nlst/upload_0to25.csv')\n",
    "df1 = pd.read_csv('/nfs/masi/MCL/xnat/xnat20201214_nlst/upload_25to50.csv')\n",
    "df2 = pd.read_csv('/nfs/masi/MCL/xnat/xnat20201214_nlst/upload_50to75.csv')\n",
    "df3 = pd.read_csv('/nfs/masi/MCL/xnat/xnat20201214_nlst/upload_75to100.csv')\n",
    "df4 = pd.read_csv('/nfs/masi/MCL/xnat/xnat20201214_nlst/upload_100toall.csv')\n",
    "\n",
    "session_list = list(set(df0['session_label'])) + list(set(df1['session_label'])) + list(set(df2['session_label'])) + list(set(df3['session_label']))+ list(set(df4['session_label']))    \n",
    "print (len(session_list), len(list(set(df3['session_label'])) ))\n",
    "\n",
    "f = open('/nfs/masi/MCL/file/txt/for_download/xnat20201214_nlst.txt', 'w')\n",
    "for i in range(len(session_list)):\n",
    "    f.write(session_list[i] + '\\n')\n",
    "f.close()"
   ]
  },
  {
   "cell_type": "code",
   "execution_count": null,
   "metadata": {},
   "outputs": [],
   "source": [
    "\n"
   ]
  },
  {
   "cell_type": "code",
   "execution_count": 23,
   "metadata": {},
   "outputs": [],
   "source": [
    "df = pd.read_csv('/nfs/masi/MCL/xnat/xnat20201214_nlst/upload_50to75.csv')\n",
    "session_label = []\n",
    "for i, item in df.iterrows():\n",
    "    tmp_vec = re.split('[_-]',item['session_label'])\n",
    "    new_str = tmp_vec[0] + '_' + tmp_vec[3] + tmp_vec[1] + tmp_vec[2] \n",
    "    session_label.append(new_str)\n",
    "df['session_label'] = session_label\n",
    "df['as_type'] = ['NA'] * len(df)\n",
    "df['as_description'] = ['NA'] * len(df)\n",
    "df.to_csv('/nfs/masi/MCL/xnat/xnat20201214_nlst/upload_50to75.csv', index = False)"
   ]
  },
  {
   "cell_type": "code",
   "execution_count": 22,
   "metadata": {},
   "outputs": [],
   "source": [
    "\n"
   ]
  },
  {
   "cell_type": "code",
   "execution_count": null,
   "metadata": {},
   "outputs": [],
   "source": []
  }
 ],
 "metadata": {
  "kernelspec": {
   "display_name": "Python [conda env:python37]",
   "language": "python",
   "name": "conda-env-python37-py"
  },
  "language_info": {
   "codemirror_mode": {
    "name": "ipython",
    "version": 3
   },
   "file_extension": ".py",
   "mimetype": "text/x-python",
   "name": "python",
   "nbconvert_exporter": "python",
   "pygments_lexer": "ipython3",
   "version": "3.7.5"
  }
 },
 "nbformat": 4,
 "nbformat_minor": 2
}
